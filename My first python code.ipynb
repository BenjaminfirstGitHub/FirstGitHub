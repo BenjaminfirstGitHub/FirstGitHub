{
 "cells": [
  {
   "cell_type": "markdown",
   "id": "98e3397c-8fb5-4be6-ae59-7343e1634d90",
   "metadata": {},
   "source": [
    "## What version of Python are we using?"
   ]
  },
  {
   "cell_type": "code",
   "execution_count": null,
   "id": "ee2a0aaa-e4ea-48d7-b18f-5bb0d4a625da",
   "metadata": {},
   "outputs": [
    {
     "name": "stdout",
     "output_type": "stream",
     "text": [
      "3.7.12 | packaged by conda-forge | (default, Oct 26 2021, 06:08:53) \n",
      "[GCC 9.4.0]\n"
     ]
    }
   ],
   "source": [
    "# check the python version\n",
    "import sys\n",
    "print(sys.version)"
   ]
  },
  {
   "cell_type": "markdown",
   "id": "1a8a500a-79ae-46a9-80d8-4c7f740a41b4",
   "metadata": {},
   "source": [
    "## writing comments in Python"
   ]
  },
  {
   "cell_type": "code",
   "execution_count": 3,
   "id": "912d66b2-4ef4-4aa5-a903-49200f08402f",
   "metadata": {},
   "outputs": [
    {
     "name": "stdout",
     "output_type": "stream",
     "text": [
      "Helllo, Python!\n"
     ]
    }
   ],
   "source": [
    "#Practice on writing comments\n",
    "print('Helllo, Python!') #This line prints a string \n",
    "#print('hi')"
   ]
  },
  {
   "cell_type": "markdown",
   "id": "393f315d-f1ff-4745-b7b5-9519fb5f8790",
   "metadata": {},
   "source": [
    "## Errors in Python"
   ]
  },
  {
   "cell_type": "code",
   "execution_count": 4,
   "id": "cb410d8f-440a-42d0-9c38-cf0f2e5ef792",
   "metadata": {},
   "outputs": [
    {
     "ename": "NameError",
     "evalue": "name 'frint' is not defined",
     "output_type": "error",
     "traceback": [
      "\u001b[0;31m---------------------------------------------------------------------------\u001b[0m",
      "\u001b[0;31mNameError\u001b[0m                                 Traceback (most recent call last)",
      "\u001b[0;32m/tmp/ipykernel_399/1219165472.py\u001b[0m in \u001b[0;36m<module>\u001b[0;34m\u001b[0m\n\u001b[1;32m      1\u001b[0m \u001b[0;31m# Print string as error message\u001b[0m\u001b[0;34m\u001b[0m\u001b[0;34m\u001b[0m\u001b[0;34m\u001b[0m\u001b[0m\n\u001b[0;32m----> 2\u001b[0;31m \u001b[0mfrint\u001b[0m\u001b[0;34m(\u001b[0m\u001b[0;34m'Hello, Python!'\u001b[0m\u001b[0;34m)\u001b[0m\u001b[0;34m\u001b[0m\u001b[0;34m\u001b[0m\u001b[0m\n\u001b[0m",
      "\u001b[0;31mNameError\u001b[0m: name 'frint' is not defined"
     ]
    }
   ],
   "source": [
    "# Print string as error message\n",
    "frint('Hello, Python!')"
   ]
  },
  {
   "cell_type": "code",
   "execution_count": 5,
   "id": "fe9f1021-6ed3-4879-a477-303a1a9f8275",
   "metadata": {},
   "outputs": [
    {
     "ename": "SyntaxError",
     "evalue": "EOL while scanning string literal (604863580.py, line 2)",
     "output_type": "error",
     "traceback": [
      "\u001b[0;36m  File \u001b[0;32m\"/tmp/ipykernel_399/604863580.py\"\u001b[0;36m, line \u001b[0;32m2\u001b[0m\n\u001b[0;31m    Print ('Hello, Python!)\u001b[0m\n\u001b[0m                           ^\u001b[0m\n\u001b[0;31mSyntaxError\u001b[0m\u001b[0;31m:\u001b[0m EOL while scanning string literal\n"
     ]
    }
   ],
   "source": [
    "# Try to see built-in error message\n",
    "Print ('Hello, Python!)"
   ]
  },
  {
   "cell_type": "markdown",
   "id": "66903948-daa2-4562-ac4d-11f7c18c57b5",
   "metadata": {},
   "source": [
    "## Does python know about your error before it runs your code?"
   ]
  },
  {
   "cell_type": "code",
   "execution_count": 6,
   "id": "07d6a452-7bde-4116-9058-e3d33e9627d6",
   "metadata": {},
   "outputs": [
    {
     "name": "stdout",
     "output_type": "stream",
     "text": [
      "This will be printed\n"
     ]
    },
    {
     "ename": "NameError",
     "evalue": "name 'frint' is not defined",
     "output_type": "error",
     "traceback": [
      "\u001b[0;31m---------------------------------------------------------------------------\u001b[0m",
      "\u001b[0;31mNameError\u001b[0m                                 Traceback (most recent call last)",
      "\u001b[0;32m/tmp/ipykernel_399/339755541.py\u001b[0m in \u001b[0;36m<module>\u001b[0;34m\u001b[0m\n\u001b[1;32m      1\u001b[0m \u001b[0;31m# Print string and error to see the running order\u001b[0m\u001b[0;34m\u001b[0m\u001b[0;34m\u001b[0m\u001b[0;34m\u001b[0m\u001b[0m\n\u001b[1;32m      2\u001b[0m \u001b[0mprint\u001b[0m\u001b[0;34m(\u001b[0m\u001b[0;34m'This will be printed'\u001b[0m\u001b[0;34m)\u001b[0m\u001b[0;34m\u001b[0m\u001b[0;34m\u001b[0m\u001b[0m\n\u001b[0;32m----> 3\u001b[0;31m \u001b[0mfrint\u001b[0m\u001b[0;34m(\u001b[0m\u001b[0;34m\"This will cause an error\"\u001b[0m\u001b[0;34m)\u001b[0m\u001b[0;34m\u001b[0m\u001b[0;34m\u001b[0m\u001b[0m\n\u001b[0m\u001b[1;32m      4\u001b[0m \u001b[0mprint\u001b[0m\u001b[0;34m(\u001b[0m\u001b[0;34m'This will NOT be printed'\u001b[0m\u001b[0;34m)\u001b[0m\u001b[0;34m\u001b[0m\u001b[0;34m\u001b[0m\u001b[0m\n",
      "\u001b[0;31mNameError\u001b[0m: name 'frint' is not defined"
     ]
    }
   ],
   "source": [
    "# Print string and error to see the running order\n",
    "print('This will be printed')\n",
    "frint(\"This will cause an error\")\n",
    "print('This will NOT be printed')"
   ]
  },
  {
   "cell_type": "markdown",
   "id": "c0eb40a6-1539-4eeb-a09e-5e9dd408e2e4",
   "metadata": {},
   "source": [
    "## Exercise: Your First Program"
   ]
  },
  {
   "cell_type": "code",
   "execution_count": 8,
   "id": "dc630d64-8baa-4c41-8fca-a183839acace",
   "metadata": {},
   "outputs": [
    {
     "name": "stdout",
     "output_type": "stream",
     "text": [
      "Hello, world!\n"
     ]
    }
   ],
   "source": [
    "print(\"Hello, world!\")"
   ]
  },
  {
   "cell_type": "code",
   "execution_count": 9,
   "id": "a4465b39-0e92-4110-a84f-33a4d440f897",
   "metadata": {},
   "outputs": [
    {
     "name": "stdout",
     "output_type": "stream",
     "text": [
      "Hello, world!\n"
     ]
    }
   ],
   "source": [
    "print(\"Hello, world!\")# Print the traditional hello world "
   ]
  },
  {
   "cell_type": "code",
   "execution_count": 10,
   "id": "689c014d-4626-4f2b-a541-a3b41b9af6b6",
   "metadata": {},
   "outputs": [],
   "source": [
    "#Interger: 11\n",
    "#Float: 2.12\n",
    "# String: 'Hello'"
   ]
  },
  {
   "cell_type": "code",
   "execution_count": 18,
   "id": "13840d7b-33ff-4c66-ad0a-d6cb46720931",
   "metadata": {},
   "outputs": [
    {
     "data": {
      "text/plain": [
       "str"
      ]
     },
     "execution_count": 18,
     "metadata": {},
     "output_type": "execute_result"
    }
   ],
   "source": [
    "type('Hello')#Type of \"hello\""
   ]
  },
  {
   "cell_type": "code",
   "execution_count": 15,
   "id": "f6f78007-8dc5-406f-af25-8302a3c631ae",
   "metadata": {},
   "outputs": [
    {
     "data": {
      "text/plain": [
       "int"
      ]
     },
     "execution_count": 15,
     "metadata": {},
     "output_type": "execute_result"
    }
   ],
   "source": [
    "type(12)#Type of 12"
   ]
  },
  {
   "cell_type": "code",
   "execution_count": 16,
   "id": "9907b7d8-7828-4faa-9122-0b051b2eac7e",
   "metadata": {},
   "outputs": [
    {
     "data": {
      "text/plain": [
       "float"
      ]
     },
     "execution_count": 16,
     "metadata": {},
     "output_type": "execute_result"
    }
   ],
   "source": [
    "type(2.21)#Type of 2.21"
   ]
  },
  {
   "cell_type": "code",
   "execution_count": 20,
   "id": "1afa811d-5e59-4e81-af79-586502e54269",
   "metadata": {},
   "outputs": [
    {
     "data": {
      "text/plain": [
       "float"
      ]
     },
     "execution_count": 20,
     "metadata": {},
     "output_type": "execute_result"
    }
   ],
   "source": [
    "type(12.0)"
   ]
  },
  {
   "cell_type": "markdown",
   "id": "8f5eb856-894e-47f0-ab26-34107700d0eb",
   "metadata": {},
   "source": [
    "## Integers"
   ]
  },
  {
   "cell_type": "markdown",
   "id": "efd45c1a-7ea2-4bc0-b862-768ab9662299",
   "metadata": {
    "tags": []
   },
   "source": [
    "## Floats"
   ]
  },
  {
   "cell_type": "code",
   "execution_count": 21,
   "id": "4b251004-daf5-46e7-b9d0-1875e2a2577e",
   "metadata": {},
   "outputs": [
    {
     "data": {
      "text/plain": [
       "float"
      ]
     },
     "execution_count": 21,
     "metadata": {},
     "output_type": "execute_result"
    }
   ],
   "source": [
    "# Print the type of 1.0\n",
    "type (1.0)"
   ]
  },
  {
   "cell_type": "code",
   "execution_count": 22,
   "id": "32cfbd60-df3c-444e-beb5-b19fc2a11b64",
   "metadata": {},
   "outputs": [
    {
     "data": {
      "text/plain": [
       "sys.float_info(max=1.7976931348623157e+308, max_exp=1024, max_10_exp=308, min=2.2250738585072014e-308, min_exp=-1021, min_10_exp=-307, dig=15, mant_dig=53, epsilon=2.220446049250313e-16, radix=2, rounds=1)"
      ]
     },
     "execution_count": 22,
     "metadata": {},
     "output_type": "execute_result"
    }
   ],
   "source": [
    "#System setting about float type\n",
    "sys.float_info"
   ]
  },
  {
   "cell_type": "markdown",
   "id": "55b54d44-3a62-49f6-a4f8-70c7134fe3c1",
   "metadata": {},
   "source": [
    "## Converting from one object type to a different object type\n"
   ]
  },
  {
   "cell_type": "code",
   "execution_count": 29,
   "id": "42ffab4c-5aed-49ae-8e54-9d9a95dc370b",
   "metadata": {},
   "outputs": [
    {
     "data": {
      "text/plain": [
       "int"
      ]
     },
     "execution_count": 29,
     "metadata": {},
     "output_type": "execute_result"
    }
   ],
   "source": [
    "type(2)"
   ]
  },
  {
   "cell_type": "code",
   "execution_count": 30,
   "id": "ba2f4390-de8e-4663-9038-648b3e6223f3",
   "metadata": {},
   "outputs": [
    {
     "data": {
      "text/plain": [
       "2.0"
      ]
     },
     "execution_count": 30,
     "metadata": {},
     "output_type": "execute_result"
    }
   ],
   "source": [
    "float(2)"
   ]
  },
  {
   "cell_type": "code",
   "execution_count": 31,
   "id": "331075e3-5c40-4f47-b828-69d74db6f150",
   "metadata": {},
   "outputs": [
    {
     "data": {
      "text/plain": [
       "float"
      ]
     },
     "execution_count": 31,
     "metadata": {},
     "output_type": "execute_result"
    }
   ],
   "source": [
    "type(float(2))"
   ]
  },
  {
   "cell_type": "code",
   "execution_count": 32,
   "id": "6976246e-23f5-49fb-bcd2-12b29f8ddd66",
   "metadata": {},
   "outputs": [
    {
     "data": {
      "text/plain": [
       "1"
      ]
     },
     "execution_count": 32,
     "metadata": {},
     "output_type": "execute_result"
    }
   ],
   "source": [
    "int(1.1)"
   ]
  },
  {
   "cell_type": "code",
   "execution_count": 33,
   "id": "54e96bcd-1458-41c8-8eec-4bff881f8866",
   "metadata": {},
   "outputs": [
    {
     "data": {
      "text/plain": [
       "1"
      ]
     },
     "execution_count": 33,
     "metadata": {},
     "output_type": "execute_result"
    }
   ],
   "source": [
    "int('1')"
   ]
  },
  {
   "cell_type": "code",
   "execution_count": 34,
   "id": "c3f8e6de-66a2-433b-bff2-4a093fc847e7",
   "metadata": {},
   "outputs": [
    {
     "ename": "ValueError",
     "evalue": "invalid literal for int() with base 10: '1 or 2 people'",
     "output_type": "error",
     "traceback": [
      "\u001b[0;31m---------------------------------------------------------------------------\u001b[0m",
      "\u001b[0;31mValueError\u001b[0m                                Traceback (most recent call last)",
      "\u001b[0;32m/tmp/ipykernel_399/2286566254.py\u001b[0m in \u001b[0;36m<module>\u001b[0;34m\u001b[0m\n\u001b[0;32m----> 1\u001b[0;31m \u001b[0mint\u001b[0m\u001b[0;34m(\u001b[0m\u001b[0;34m'1 or 2 people'\u001b[0m\u001b[0;34m)\u001b[0m\u001b[0;34m\u001b[0m\u001b[0;34m\u001b[0m\u001b[0m\n\u001b[0m",
      "\u001b[0;31mValueError\u001b[0m: invalid literal for int() with base 10: '1 or 2 people'"
     ]
    }
   ],
   "source": [
    "int('1 or 2 people')"
   ]
  },
  {
   "cell_type": "code",
   "execution_count": 35,
   "id": "ec021f19-6bb2-420c-abd2-16ad4c01f3c3",
   "metadata": {},
   "outputs": [
    {
     "data": {
      "text/plain": [
       "'1'"
      ]
     },
     "execution_count": 35,
     "metadata": {},
     "output_type": "execute_result"
    }
   ],
   "source": [
    "str(1)"
   ]
  },
  {
   "cell_type": "code",
   "execution_count": 36,
   "id": "155e0c6c-b2c3-401f-81c6-28d76d51a0d3",
   "metadata": {},
   "outputs": [
    {
     "data": {
      "text/plain": [
       "'1.2'"
      ]
     },
     "execution_count": 36,
     "metadata": {},
     "output_type": "execute_result"
    }
   ],
   "source": [
    "str(1.2)"
   ]
  },
  {
   "cell_type": "markdown",
   "id": "70a7fe36-7046-4713-b402-2ef36d26128b",
   "metadata": {},
   "source": [
    "## Boolean data type"
   ]
  },
  {
   "cell_type": "markdown",
   "id": "9693943a-0a54-48bb-9f35-2cb21e2279cb",
   "metadata": {},
   "source": [
    "Boolean is another important type in Python. An object of type Boolean can take on one of two values: __Ture__ or **False**:"
   ]
  },
  {
   "cell_type": "code",
   "execution_count": 38,
   "id": "1655cdc3-9106-4f24-8f3d-221edba97838",
   "metadata": {},
   "outputs": [
    {
     "data": {
      "text/plain": [
       "True"
      ]
     },
     "execution_count": 38,
     "metadata": {},
     "output_type": "execute_result"
    }
   ],
   "source": [
    "# Value true\n",
    "True"
   ]
  },
  {
   "cell_type": "code",
   "execution_count": 39,
   "id": "41405b61-cb40-4a01-9394-0d4a8550a74a",
   "metadata": {},
   "outputs": [
    {
     "data": {
      "text/plain": [
       "False"
      ]
     },
     "execution_count": 39,
     "metadata": {},
     "output_type": "execute_result"
    }
   ],
   "source": [
    "#Value false\n",
    "False"
   ]
  },
  {
   "cell_type": "code",
   "execution_count": 40,
   "id": "11f56df6-d171-41fc-8a6e-d6760e6f112c",
   "metadata": {},
   "outputs": [
    {
     "data": {
      "text/plain": [
       "bool"
      ]
     },
     "execution_count": 40,
     "metadata": {},
     "output_type": "execute_result"
    }
   ],
   "source": [
    "type(True)"
   ]
  },
  {
   "cell_type": "code",
   "execution_count": 41,
   "id": "9021ec97-a246-45f6-9a30-174fbc68c1d8",
   "metadata": {},
   "outputs": [
    {
     "data": {
      "text/plain": [
       "bool"
      ]
     },
     "execution_count": 41,
     "metadata": {},
     "output_type": "execute_result"
    }
   ],
   "source": [
    "type(False)"
   ]
  },
  {
   "cell_type": "code",
   "execution_count": 42,
   "id": "9314b727-46a5-4032-96fd-636133e32a8c",
   "metadata": {},
   "outputs": [
    {
     "data": {
      "text/plain": [
       "1"
      ]
     },
     "execution_count": 42,
     "metadata": {},
     "output_type": "execute_result"
    }
   ],
   "source": [
    "int(True)"
   ]
  },
  {
   "cell_type": "code",
   "execution_count": 43,
   "id": "adc46de2-10ad-45fe-9d8d-732c6e333ae3",
   "metadata": {},
   "outputs": [
    {
     "data": {
      "text/plain": [
       "True"
      ]
     },
     "execution_count": 43,
     "metadata": {},
     "output_type": "execute_result"
    }
   ],
   "source": [
    "bool(1)"
   ]
  },
  {
   "cell_type": "code",
   "execution_count": 44,
   "id": "10208848-ca5c-4631-b56b-aae15b05f87c",
   "metadata": {},
   "outputs": [
    {
     "data": {
      "text/plain": [
       "False"
      ]
     },
     "execution_count": 44,
     "metadata": {},
     "output_type": "execute_result"
    }
   ],
   "source": [
    "bool(0)"
   ]
  },
  {
   "cell_type": "code",
   "execution_count": 45,
   "id": "0f81e8ae-851f-4d4b-a6c3-3061ff7f8c3e",
   "metadata": {},
   "outputs": [
    {
     "data": {
      "text/plain": [
       "1.0"
      ]
     },
     "execution_count": 45,
     "metadata": {},
     "output_type": "execute_result"
    }
   ],
   "source": [
    "float(True)"
   ]
  },
  {
   "cell_type": "code",
   "execution_count": 46,
   "id": "68d7ba6d-c97e-4a55-9d5b-ae989cd9df1d",
   "metadata": {},
   "outputs": [
    {
     "data": {
      "text/plain": [
       "0.0"
      ]
     },
     "execution_count": 46,
     "metadata": {},
     "output_type": "execute_result"
    }
   ],
   "source": [
    "float(False)"
   ]
  },
  {
   "cell_type": "markdown",
   "id": "99a4c810-9da0-443c-a38f-6f1cc5779423",
   "metadata": {},
   "source": [
    "## Exercse: Types"
   ]
  },
  {
   "cell_type": "code",
   "execution_count": 47,
   "id": "b7219fb6-d0ea-4622-b60e-cb66edb2ecf1",
   "metadata": {},
   "outputs": [
    {
     "data": {
      "text/plain": [
       "float"
      ]
     },
     "execution_count": 47,
     "metadata": {},
     "output_type": "execute_result"
    }
   ],
   "source": [
    "type(6/2)"
   ]
  },
  {
   "cell_type": "code",
   "execution_count": 48,
   "id": "88e46877-267c-46ed-a3fa-702b2e25aca1",
   "metadata": {},
   "outputs": [
    {
     "data": {
      "text/plain": [
       "int"
      ]
     },
     "execution_count": 48,
     "metadata": {},
     "output_type": "execute_result"
    }
   ],
   "source": [
    "type(6//2)"
   ]
  },
  {
   "cell_type": "markdown",
   "id": "a8b75b3c-e351-4b57-a0c6-9271f38ba729",
   "metadata": {},
   "source": [
    "## Expression and Variables"
   ]
  },
  {
   "cell_type": "code",
   "execution_count": 52,
   "id": "574261ed-b897-422c-9095-9f6e5ebd4fd7",
   "metadata": {},
   "outputs": [
    {
     "data": {
      "text/plain": [
       "2.6666666666666665"
      ]
     },
     "execution_count": 52,
     "metadata": {},
     "output_type": "execute_result"
    }
   ],
   "source": [
    "160/60"
   ]
  },
  {
   "cell_type": "markdown",
   "id": "eab0d030-bfba-4fbb-bb15-fc76859c4626",
   "metadata": {},
   "source": [
    "## Exercise: Expression and Variables in Python"
   ]
  },
  {
   "cell_type": "code",
   "execution_count": 54,
   "id": "c9e33026-f444-4fc7-8497-cd7e6af4ae89",
   "metadata": {},
   "outputs": [
    {
     "data": {
      "text/plain": [
       "7"
      ]
     },
     "execution_count": 54,
     "metadata": {},
     "output_type": "execute_result"
    }
   ],
   "source": [
    "x=3+2*2\n",
    "x"
   ]
  },
  {
   "cell_type": "code",
   "execution_count": 56,
   "id": "6989c25a-56fa-411b-ae24-5e179ae1427b",
   "metadata": {},
   "outputs": [
    {
     "data": {
      "text/plain": [
       "10"
      ]
     },
     "execution_count": 56,
     "metadata": {},
     "output_type": "execute_result"
    }
   ],
   "source": [
    "y=(3+2)*2\n",
    "y"
   ]
  },
  {
   "cell_type": "code",
   "execution_count": 58,
   "id": "66603a7c-f36c-4ff3-bff5-8475f299ba2a",
   "metadata": {},
   "outputs": [
    {
     "data": {
      "text/plain": [
       "17"
      ]
     },
     "execution_count": 58,
     "metadata": {},
     "output_type": "execute_result"
    }
   ],
   "source": [
    "z=x+y\n",
    "z"
   ]
  },
  {
   "cell_type": "code",
   "execution_count": null,
   "id": "82ff4bce-2add-4216-bcfe-559b12ed8cf2",
   "metadata": {},
   "outputs": [],
   "source": []
  }
 ],
 "metadata": {
  "kernelspec": {
   "display_name": "Python",
   "language": "python",
   "name": "conda-env-python-py"
  },
  "language_info": {
   "codemirror_mode": {
    "name": "ipython",
    "version": 3
   },
   "file_extension": ".py",
   "mimetype": "text/x-python",
   "name": "python",
   "nbconvert_exporter": "python",
   "pygments_lexer": "ipython3",
   "version": "3.7.12"
  }
 },
 "nbformat": 4,
 "nbformat_minor": 5
}
